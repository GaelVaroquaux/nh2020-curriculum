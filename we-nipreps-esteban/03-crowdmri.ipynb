{
 "cells": [
  {
   "cell_type": "markdown",
   "metadata": {
    "slideshow": {
     "slide_type": "slide"
    }
   },
   "source": [
    "# CrowdMRI (aka MRIQC Web API)\n",
    "\n"
   ]
  },
  {
   "cell_type": "markdown",
   "metadata": {
    "slideshow": {
     "slide_type": "slide"
    }
   },
   "source": [
    "<img src=\"crowdmri-flowchart.png\" />"
   ]
  },
  {
   "cell_type": "markdown",
   "metadata": {
    "slideshow": {
     "slide_type": "slide"
    }
   },
   "source": [
    "## Querying the database\n",
    "\n",
    "- Manually (online): https://mriqc.nimh.nih.gov\n",
    "- Python"
   ]
  },
  {
   "cell_type": "code",
   "execution_count": 1,
   "metadata": {
    "slideshow": {
     "slide_type": "skip"
    }
   },
   "outputs": [],
   "source": [
    "import os\n",
    "import sys\n",
    "import pandas as pd\n",
    "from json import load\n",
    "import urllib.request, json \n",
    "from pandas.io.json import json_normalize"
   ]
  },
  {
   "cell_type": "code",
   "execution_count": 2,
   "metadata": {
    "slideshow": {
     "slide_type": "fragment"
    }
   },
   "outputs": [],
   "source": [
    "def get_iqms(modality, versions=None, software='mriqc', out_file=None, page_size=25):\n",
    "    \"\"\"\n",
    "    Grab all iqms for the given modality and the list of versions\n",
    "    \"\"\"\n",
    "    \n",
    "\n",
    "    \n",
    "    url_root = 'https://mriqc.nimh.nih.gov/api/v1/{modality}?{query}'\n",
    "    page = 1\n",
    "    \n",
    "    if out_file is None:\n",
    "        out_file = 'webapi-%s.csv' % modality\n",
    "    \n",
    "    database = pd.DataFrame()\n",
    "    if os.path.isfile(out_file):\n",
    "        database = pd.read_csv(out_file)\n",
    "        page = len(database) // page_size + 1\n",
    "        print('Found old records. Starting on page ', page)\n",
    "\n",
    "    if versions is None:\n",
    "        versions = ['*']\n",
    "\n",
    "    for version in versions:\n",
    "        while True:\n",
    "            query = 'max_results=%d&page=%d' % (page_size, page)\n",
    "            \n",
    "            filters = []\n",
    "            if software is not None:\n",
    "                filters.append('\"provenance.software\":\"%s\"' % software)\n",
    "            \n",
    "            if version != '*':\n",
    "                filters.append('\"provenance.version\":\"%s\"' % version)\n",
    "            \n",
    "            if filters:\n",
    "                query += '&where={%s}' % ','.join(filters)\n",
    "                \n",
    "            page_url = url_root.format(\n",
    "                modality=modality,\n",
    "                query=query\n",
    "            )\n",
    "            with urllib.request.urlopen(page_url) as url:\n",
    "                data = json.loads(url.read().decode())\n",
    "                database = database.append(\n",
    "                    json_normalize(data['_items']), sort=False)\n",
    "                \n",
    "                database.to_csv(out_file)\n",
    "                sys.stdout.write('.')\n",
    "                sys.stdout.flush()\n",
    "                if 'next' not in data['_links'].keys():\n",
    "                    break\n",
    "                else:\n",
    "                    page += 1\n",
    "\n",
    "    database.to_csv(out_file)\n",
    "    return database"
   ]
  },
  {
   "cell_type": "code",
   "execution_count": null,
   "metadata": {
    "slideshow": {
     "slide_type": "slide"
    }
   },
   "outputs": [],
   "source": [
    "df_t1w = get_iqms('T1w', software=None, out_file=os.path.expanduser('~/data/nipreps/.crowdmri-T1w.csv'), page_size=1000)\n",
    "df_t1w_unique = df_t1w.drop_duplicates(subset=['provenance.md5sum'])"
   ]
  },
  {
   "cell_type": "code",
   "execution_count": null,
   "metadata": {},
   "outputs": [],
   "source": []
  }
 ],
 "metadata": {
  "celltoolbar": "Slideshow",
  "kernelspec": {
   "display_name": "Python 3",
   "language": "python",
   "name": "python3"
  },
  "language_info": {
   "codemirror_mode": {
    "name": "ipython",
    "version": 3
   },
   "file_extension": ".py",
   "mimetype": "text/x-python",
   "name": "python",
   "nbconvert_exporter": "python",
   "pygments_lexer": "ipython3",
   "version": "3.7.8"
  }
 },
 "nbformat": 4,
 "nbformat_minor": 4
}
