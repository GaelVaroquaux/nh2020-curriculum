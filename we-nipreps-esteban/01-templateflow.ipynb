{
 "cells": [
  {
   "cell_type": "markdown",
   "metadata": {
    "slideshow": {
     "slide_type": "slide"
    }
   },
   "source": [
    "# TemplateFlow\n",
    "\n",
    "A resource for handling neuroimaging templates and atlases.\n",
    "\n",
    "Components:\n",
    "\n",
    "* The *TemplateFlow Archive*\n",
    "* The *Python Client*\n",
    "* The *TemplateFlow Registration Framework*\n",
    "\n",
    "Check [www.templateflow.org](https://www.templateflow.org)"
   ]
  },
  {
   "cell_type": "markdown",
   "metadata": {
    "slideshow": {
     "slide_type": "slide"
    }
   },
   "source": [
    "# The Python Client\n",
    "Provides an easy interface to access the *Archive* by humans and programs.\n",
    "\n",
    "## Easy to install"
   ]
  },
  {
   "cell_type": "code",
   "execution_count": null,
   "metadata": {},
   "outputs": [],
   "source": [
    "!pip install templateflow --user"
   ]
  },
  {
   "cell_type": "markdown",
   "metadata": {
    "slideshow": {
     "slide_type": "slide"
    }
   },
   "source": [
    "# Easy to use\n",
    "The `api` submodule contains all the utilities"
   ]
  },
  {
   "cell_type": "code",
   "execution_count": 3,
   "metadata": {},
   "outputs": [],
   "source": [
    "from templateflow import api"
   ]
  },
  {
   "cell_type": "markdown",
   "metadata": {
    "slideshow": {
     "slide_type": "slide"
    }
   },
   "source": [
    "For instance, we can query the *Archive* to learn the list of templates currently available:"
   ]
  },
  {
   "cell_type": "code",
   "execution_count": null,
   "metadata": {},
   "outputs": [],
   "source": [
    "api.templates()"
   ]
  },
  {
   "cell_type": "markdown",
   "metadata": {
    "slideshow": {
     "slide_type": "slide"
    }
   },
   "source": [
    "Let's say we want to use the CerebrA parcellation recently published by the MNI group. The parcellation is defined on their `\"MNI152NLin2009cSym\"` template:"
   ]
  },
  {
   "cell_type": "code",
   "execution_count": null,
   "metadata": {},
   "outputs": [],
   "source": [
    "api.get(\"MNI152NLin2009cSym\", atlas=\"CerebrA\")"
   ]
  },
  {
   "cell_type": "markdown",
   "metadata": {
    "slideshow": {
     "slide_type": "subslide"
    }
   },
   "source": [
    "## Lazy-loading\n",
    "The first time we request a file, it gets downloaded to the `$TEMPLATEFLOW_HOME` folder, which by default points to `$HOME/.cache/templateflow`. The second time we run the same query, it's already fetched and available:"
   ]
  },
  {
   "cell_type": "code",
   "execution_count": null,
   "metadata": {},
   "outputs": [],
   "source": [
    "api.get(\"MNI152NLin2009cSym\", atlas=\"CerebrA\")"
   ]
  },
  {
   "cell_type": "markdown",
   "metadata": {
    "slideshow": {
     "slide_type": "subslide"
    }
   },
   "source": [
    "## PyBIDS-like interface\n",
    "The client just defines a new configuration object for PyBIDS, which is actually used in indexing and querying the Archive. For example, let's say we will need the anatomical reference of the CerebrA parcellation:"
   ]
  },
  {
   "cell_type": "code",
   "execution_count": null,
   "metadata": {},
   "outputs": [],
   "source": [
    "api.get(\"MNI152NLin2009cSym\", suffix=\"T1w\")"
   ]
  },
  {
   "cell_type": "markdown",
   "metadata": {
    "slideshow": {
     "slide_type": "slide"
    }
   },
   "source": [
    "# The *TemplateFlow Archive*\n",
    "\n",
    "The *Archive* is a replicated repository (stored on the OSF and a public S3 bucket) managed and version-controlled with DataLad.\n",
    "\n",
    "We are building a contribution workflow, so that users can easily upload their templates.\n",
    "\n",
    "Currently available templates can be browsed with the [online browser](https://www.templateflow.org/archive/#browse-the-archive)"
   ]
  },
  {
   "cell_type": "markdown",
   "metadata": {
    "slideshow": {
     "slide_type": "subslide"
    }
   },
   "source": [
    "Accessing the Archive can be done with the Python client (recommended) or directly with Datalad (discouraged):"
   ]
  },
  {
   "cell_type": "code",
   "execution_count": null,
   "metadata": {},
   "outputs": [],
   "source": [
    "!datalad install -r ///templateflow"
   ]
  },
  {
   "cell_type": "code",
   "execution_count": null,
   "metadata": {
    "slideshow": {
     "slide_type": "subslide"
    }
   },
   "outputs": [],
   "source": [
    "!ls templateflow/"
   ]
  },
  {
   "cell_type": "markdown",
   "metadata": {
    "slideshow": {
     "slide_type": "slide"
    }
   },
   "source": [
    "# Use-case: extracting time-series from preprocessed data\n",
    "The following use-case shows how to use the Finger/Foot/Lips motor task in DS000114, after preprocessing with fMRIPrep.\n",
    "\n",
    "The full dataset after preprocessing has been uploaded to [G-Node](https://gin.g-node.org/oesteban/ds000114/). We will extract the time-series for subject `05`, session `test`, and task `fingerfootlips`. Therefore, we will work on [this file](), for which there's a symlink under `~/data/nipreps/templateflow/`."
   ]
  },
  {
   "cell_type": "code",
   "execution_count": 15,
   "metadata": {},
   "outputs": [],
   "source": [
    "from os import path as op\n",
    "data_file = op.expanduser(\n",
    "    \"~/data/nipreps/templateflow/\"\n",
    "    \"sub-05_ses-test_task-fingerfootlips_space-MNI152NLin6Asym_desc-preproc_bold.nii.gz\"\n",
    ")"
   ]
  },
  {
   "cell_type": "markdown",
   "metadata": {},
   "source": [
    "We will use the Schaefer parcellation with 7 networks and 100 ROIs, at the lower resolution (``res-02``) of the reference template (which is FSL's MNI, or `MNI152NLin6Asym` for TemplateFlow)."
   ]
  },
  {
   "cell_type": "code",
   "execution_count": 18,
   "metadata": {},
   "outputs": [
    {
     "data": {
      "text/plain": [
       "PosixPath('/home/jovyan/.cache/templateflow/tpl-MNI152NLin6Asym/tpl-MNI152NLin6Asym_res-02_atlas-Schaefer2018_desc-100Parcels7Networks_dseg.nii.gz')"
      ]
     },
     "execution_count": 18,
     "metadata": {},
     "output_type": "execute_result"
    }
   ],
   "source": [
    "api.get(\"MNI152NLin6Asym\", atlas=\"Schaefer2018\", resolution=2, desc=\"100Parcels7Networks\")"
   ]
  },
  {
   "cell_type": "code",
   "execution_count": null,
   "metadata": {},
   "outputs": [],
   "source": []
  }
 ],
 "metadata": {
  "celltoolbar": "Slideshow",
  "kernelspec": {
   "display_name": "Python 3",
   "language": "python",
   "name": "python3"
  },
  "language_info": {
   "codemirror_mode": {
    "name": "ipython",
    "version": 3
   },
   "file_extension": ".py",
   "mimetype": "text/x-python",
   "name": "python",
   "nbconvert_exporter": "python",
   "pygments_lexer": "ipython3",
   "version": "3.7.8"
  }
 },
 "nbformat": 4,
 "nbformat_minor": 4
}
