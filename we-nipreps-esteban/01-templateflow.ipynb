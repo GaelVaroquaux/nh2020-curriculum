{
 "cells": [
  {
   "cell_type": "markdown",
   "metadata": {
    "slideshow": {
     "slide_type": "slide"
    }
   },
   "source": [
    "# TemplateFlow\n",
    "\n",
    "A resource for handling neuroimaging templates and atlases.\n",
    "\n",
    "Components:\n",
    "\n",
    "* The *TemplateFlow Archive*\n",
    "* The *Python Client*\n",
    "* The *TemplateFlow Registration Framework*"
   ]
  },
  {
   "cell_type": "markdown",
   "metadata": {
    "slideshow": {
     "slide_type": "slide"
    }
   },
   "source": [
    "# The Python Client\n",
    "Provides an easy interface to access the *Archive* by humans and programs.\n",
    "\n",
    "## Easy to install"
   ]
  },
  {
   "cell_type": "code",
   "execution_count": null,
   "metadata": {},
   "outputs": [],
   "source": [
    "!pip install templateflow --user"
   ]
  },
  {
   "cell_type": "markdown",
   "metadata": {
    "slideshow": {
     "slide_type": "slide"
    }
   },
   "source": [
    "# Easy to use\n",
    "The `api` submodule contains all the utilities"
   ]
  },
  {
   "cell_type": "code",
   "execution_count": 1,
   "metadata": {},
   "outputs": [],
   "source": [
    "from templateflow import api"
   ]
  },
  {
   "cell_type": "markdown",
   "metadata": {
    "slideshow": {
     "slide_type": "slide"
    }
   },
   "source": [
    "For instance, we can query the *Archive* to learn the list of templates currently available:"
   ]
  },
  {
   "cell_type": "code",
   "execution_count": 2,
   "metadata": {},
   "outputs": [
    {
     "data": {
      "text/plain": [
       "['MNI152Lin',\n",
       " 'MNI152NLin2009cAsym',\n",
       " 'MNI152NLin2009cSym',\n",
       " 'MNI152NLin6Asym',\n",
       " 'MNI152NLin6Sym',\n",
       " 'MNIInfant',\n",
       " 'MNIPediatricAsym',\n",
       " 'NKI',\n",
       " 'OASIS30ANTs',\n",
       " 'PNC',\n",
       " 'WHS',\n",
       " 'fsLR',\n",
       " 'fsaverage']"
      ]
     },
     "execution_count": 2,
     "metadata": {},
     "output_type": "execute_result"
    }
   ],
   "source": [
    "api.templates()"
   ]
  },
  {
   "cell_type": "markdown",
   "metadata": {
    "slideshow": {
     "slide_type": "slide"
    }
   },
   "source": [
    "Let's say we want to use the CerebrA parcellation recently published by the MNI group. The parcellation is defined on their `\"MNI152NLin2009cSym\"` template:"
   ]
  },
  {
   "cell_type": "code",
   "execution_count": 3,
   "metadata": {},
   "outputs": [
    {
     "data": {
      "text/plain": [
       "PosixPath('/home/jovyan/.cache/templateflow/tpl-MNI152NLin2009cSym/tpl-MNI152NLin2009cSym_res-1_atlas-CerebrA_dseg.nii.gz')"
      ]
     },
     "execution_count": 3,
     "metadata": {},
     "output_type": "execute_result"
    }
   ],
   "source": [
    "api.get(\"MNI152NLin2009cSym\", atlas=\"CerebrA\")"
   ]
  },
  {
   "cell_type": "markdown",
   "metadata": {
    "slideshow": {
     "slide_type": "subslide"
    }
   },
   "source": [
    "## Lazy-loading\n",
    "The first time we request a file, it gets downloaded to the `$TEMPLATEFLOW_HOME` folder, which by default points to `$HOME/.cache/templateflow`. The second time we run the same query, it's already fetched and available:"
   ]
  },
  {
   "cell_type": "code",
   "execution_count": 4,
   "metadata": {},
   "outputs": [
    {
     "data": {
      "text/plain": [
       "PosixPath('/home/jovyan/.cache/templateflow/tpl-MNI152NLin2009cSym/tpl-MNI152NLin2009cSym_res-1_atlas-CerebrA_dseg.nii.gz')"
      ]
     },
     "execution_count": 4,
     "metadata": {},
     "output_type": "execute_result"
    }
   ],
   "source": [
    "api.get(\"MNI152NLin2009cSym\", atlas=\"CerebrA\")"
   ]
  },
  {
   "cell_type": "markdown",
   "metadata": {
    "slideshow": {
     "slide_type": "subslide"
    }
   },
   "source": [
    "## PyBIDS-like interface\n",
    "The client just defines a new configuration object for PyBIDS, which is actually used in indexing and querying the Archive. For example, let's say we will need the anatomical reference of the CerebrA parcellation:"
   ]
  },
  {
   "cell_type": "code",
   "execution_count": 5,
   "metadata": {},
   "outputs": [
    {
     "data": {
      "text/plain": [
       "PosixPath('/home/jovyan/.cache/templateflow/tpl-MNI152NLin2009cSym/tpl-MNI152NLin2009cSym_res-1_T1w.nii.gz')"
      ]
     },
     "execution_count": 5,
     "metadata": {},
     "output_type": "execute_result"
    }
   ],
   "source": [
    "api.get(\"MNI152NLin2009cSym\", suffix=\"T1w\")"
   ]
  },
  {
   "cell_type": "markdown",
   "metadata": {
    "slideshow": {
     "slide_type": "slide"
    }
   },
   "source": [
    "# The *TemplateFlow Archive*\n",
    "\n",
    "The *Archive* is a replicated repository (stored on the OSF and a public S3 bucket) managed and version-controlled with DataLad.\n",
    "\n",
    "We are building a contribution workflow, so that users can easily upload their templates.\n",
    "\n",
    "Currently available templates can be browsed with the [online browser](https://www.templateflow.org/archive/#browse-the-archive)"
   ]
  },
  {
   "cell_type": "markdown",
   "metadata": {
    "slideshow": {
     "slide_type": "subslide"
    }
   },
   "source": [
    "Accessing the Archive can be done with the Python client (recommended) or directly with Datalad (discouraged):"
   ]
  },
  {
   "cell_type": "code",
   "execution_count": 6,
   "metadata": {
    "collapsed": true
   },
   "outputs": [
    {
     "name": "stdout",
     "output_type": "stream",
     "text": [
      "Clone attempt: 100%|███████| 2.00/2.00 [00:00<00:00, 9.09 Candidate locations/s]\n",
      "Counting: 0.00 Objects [00:00, ? Objects/s]\u001b[A\n",
      "                                           \u001b[A\n",
      "Compressing:   0%|                             | 0.00/303 [00:00<?, ? Objects/s]\u001b[A\n",
      "                                                                                \u001b[A\n",
      "Receiving:   0%|                               | 0.00/676 [00:00<?, ? Objects/s]\u001b[A\n",
      "                                                                                \u001b[A\n",
      "Resolving:   0%|                                | 0.00/286 [00:00<?, ? Deltas/s]\u001b[A\n",
      "[INFO   ] Scanning for unlocked files (this may take some time)                 \u001b[A\n",
      "[INFO   ] access to 1 dataset sibling public-s3 not auto-enabled, enable with:\n",
      "| \t\tdatalad siblings -d \"/home/jovyan/curriculum/we-nipreps-esteban/templateflow\" enable -s public-s3 \n",
      "\u001b[1;1minstall\u001b[0m(\u001b[1;32mok\u001b[0m): /home/jovyan/curriculum/we-nipreps-esteban/templateflow (\u001b[1;35mdataset\u001b[0m)\n",
      "[INFO   ] Installing Dataset(/home/jovyan/curriculum/we-nipreps-esteban/templateflow) to get /home/jovyan/curriculum/we-nipreps-esteban/templateflow recursively \n",
      "Clone attempt:  67%|████▋  | 2.00/3.00 [00:00<00:00, 19.2 Candidate locations/s]\n",
      "Enumerating: 0.00 Objects [00:00, ? Objects/s]\u001b[A\n",
      "                                              \u001b[A\n",
      "Counting:   0%|                                | 0.00/176 [00:00<?, ? Objects/s]\u001b[A\n",
      "                                                                                \u001b[A\n",
      "Compressing:   0%|                             | 0.00/106 [00:00<?, ? Objects/s]\u001b[A\n",
      "                                                                                \u001b[A\n",
      "Receiving:   0%|                               | 0.00/436 [00:00<?, ? Objects/s]\u001b[A\n",
      "                                                                                \u001b[A\n",
      "Resolving:   0%|                               | 0.00/90.0 [00:00<?, ? Deltas/s]\u001b[A\n",
      "[INFO   ] Scanning for unlocked files (this may take some time)                 \u001b[A\n",
      "[INFO   ] Remote origin not usable by git-annex; setting annex-ignore \n",
      "[INFO   ] access to 2 dataset siblings box.com, public-s3 not auto-enabled, enable with:\n",
      "| \t\tdatalad siblings -d \"/home/jovyan/curriculum/we-nipreps-esteban/templateflow/tpl-MNI152Lin\" enable -s SIBLING \n",
      "[INFO   ] Submodule HEAD got detached. Resetting branch master to point to 224c2a06. Original location was 7ab0d5bd \n",
      "\u001b[1;1minstall\u001b[0m(\u001b[1;32mok\u001b[0m): /home/jovyan/curriculum/we-nipreps-esteban/templateflow/tpl-MNI152Lin (\u001b[1;35mdataset\u001b[0m)\n",
      "Clone attempt:  67%|████▋  | 2.00/3.00 [00:00<00:00, 14.9 Candidate locations/s]\n",
      "Enumerating: 0.00 Objects [00:00, ? Objects/s]\u001b[A\n",
      "                                              \u001b[A\n",
      "Counting:   0%|                                | 0.00/651 [00:00<?, ? Objects/s]\u001b[A\n",
      "                                                                                \u001b[A\n",
      "Compressing:   0%|                             | 0.00/258 [00:00<?, ? Objects/s]\u001b[A\n",
      "                                                                                \u001b[A\n",
      "Receiving:   0%|                             | 0.00/2.25k [00:00<?, ? Objects/s]\u001b[A\n",
      "                                                                                \u001b[A\n",
      "Resolving:   0%|                                | 0.00/778 [00:00<?, ? Deltas/s]\u001b[A\n",
      "[INFO   ] Scanning for unlocked files (this may take some time)                 \u001b[A\n",
      "[INFO   ] Remote origin not usable by git-annex; setting annex-ignore \n",
      "[INFO   ] access to 2 dataset siblings public-s3, box.com not auto-enabled, enable with:\n",
      "| \t\tdatalad siblings -d \"/home/jovyan/curriculum/we-nipreps-esteban/templateflow/tpl-MNI152NLin2009cAsym\" enable -s SIBLING \n",
      "[INFO   ] Submodule HEAD got detached. Resetting branch master to point to 9f1f22ca. Original location was 92b7133f \n",
      "\u001b[1;1minstall\u001b[0m(\u001b[1;32mok\u001b[0m): /home/jovyan/curriculum/we-nipreps-esteban/templateflow/tpl-MNI152NLin2009cAsym (\u001b[1;35mdataset\u001b[0m)\n",
      "Clone attempt:   0%|              | 0.00/3.00 [00:00<?, ? Candidate locations/s]\n",
      "Enumerating: 0.00 Objects [00:00, ? Objects/s]\u001b[A\n",
      "                                              \u001b[A\n",
      "Counting:   0%|                                | 0.00/224 [00:00<?, ? Objects/s]\u001b[A\n",
      "                                                                                \u001b[A\n",
      "Compressing:   0%|                             | 0.00/147 [00:00<?, ? Objects/s]\u001b[A\n",
      "                                                                                \u001b[A\n",
      "Receiving:   0%|                               | 0.00/224 [00:00<?, ? Objects/s]\u001b[A\n",
      "                                                                                \u001b[A\n",
      "Resolving:   0%|                               | 0.00/52.0 [00:00<?, ? Deltas/s]\u001b[A\n",
      "[INFO   ] Scanning for unlocked files (this may take some time)                 \u001b[A\n",
      "[INFO   ] Remote origin not usable by git-annex; setting annex-ignore \n",
      "[INFO   ] access to 1 dataset sibling public-s3 not auto-enabled, enable with:\n",
      "| \t\tdatalad siblings -d \"/home/jovyan/curriculum/we-nipreps-esteban/templateflow/tpl-MNI152NLin2009cSym\" enable -s public-s3 \n",
      "[INFO   ] Submodule HEAD got detached. Resetting branch master to point to 7e11588b. Original location was 355d2c7c \n",
      "\u001b[1;1minstall\u001b[0m(\u001b[1;32mok\u001b[0m): /home/jovyan/curriculum/we-nipreps-esteban/templateflow/tpl-MNI152NLin2009cSym (\u001b[1;35mdataset\u001b[0m)\n",
      "Clone attempt:   0%|              | 0.00/3.00 [00:00<?, ? Candidate locations/s]\n",
      "Enumerating: 0.00 Objects [00:00, ? Objects/s]\u001b[A\n",
      "                                              \u001b[A\n",
      "Counting:   0%|                                | 0.00/334 [00:00<?, ? Objects/s]\u001b[A\n",
      "                                                                                \u001b[A\n",
      "Compressing:   0%|                             | 0.00/224 [00:00<?, ? Objects/s]\u001b[A\n",
      "                                                                                \u001b[A\n",
      "Receiving:   0%|                             | 0.00/1.60k [00:00<?, ? Objects/s]\u001b[A\n",
      "                                                                                \u001b[A\n",
      "Resolving:   0%|                                | 0.00/417 [00:00<?, ? Deltas/s]\u001b[A\n",
      "[INFO   ] Scanning for unlocked files (this may take some time)                 \u001b[A\n",
      "[INFO   ] Remote origin not usable by git-annex; setting annex-ignore \n",
      "[INFO   ] access to 1 dataset sibling public-s3 not auto-enabled, enable with:\n",
      "| \t\tdatalad siblings -d \"/home/jovyan/curriculum/we-nipreps-esteban/templateflow/tpl-MNI152NLin6Asym\" enable -s public-s3 \n",
      "[INFO   ] Submodule HEAD got detached. Resetting branch master to point to 9f1ae7d3. Original location was 38f956d1 \n",
      "\u001b[1;1minstall\u001b[0m(\u001b[1;32mok\u001b[0m): /home/jovyan/curriculum/we-nipreps-esteban/templateflow/tpl-MNI152NLin6Asym (\u001b[1;35mdataset\u001b[0m)\n",
      "Clone attempt:  67%|████▋  | 2.00/3.00 [00:00<00:00, 16.5 Candidate locations/s]\n",
      "Enumerating: 0.00 Objects [00:00, ? Objects/s]\u001b[A\n",
      "                                              \u001b[A\n",
      "Counting:   0%|                                | 0.00/122 [00:00<?, ? Objects/s]\u001b[A\n",
      "                                                                                \u001b[A\n",
      "Compressing:   0%|                            | 0.00/81.0 [00:00<?, ? Objects/s]\u001b[A\n",
      "                                                                                \u001b[A\n",
      "Receiving:   0%|                               | 0.00/315 [00:00<?, ? Objects/s]\u001b[A\n",
      "                                                                                \u001b[A\n",
      "Resolving:   0%|                               | 0.00/81.0 [00:00<?, ? Deltas/s]\u001b[A\n",
      "[INFO   ] Scanning for unlocked files (this may take some time)                 \u001b[A\n",
      "[INFO   ] Remote origin not usable by git-annex; setting annex-ignore \n",
      "[INFO   ] access to 1 dataset sibling public-s3 not auto-enabled, enable with:\n",
      "| \t\tdatalad siblings -d \"/home/jovyan/curriculum/we-nipreps-esteban/templateflow/tpl-MNI152NLin6Sym\" enable -s public-s3 \n",
      "[INFO   ] Submodule HEAD got detached. Resetting branch master to point to 415e57c3. Original location was 7f0bc090 \n",
      "\u001b[1;1minstall\u001b[0m(\u001b[1;32mok\u001b[0m): /home/jovyan/curriculum/we-nipreps-esteban/templateflow/tpl-MNI152NLin6Sym (\u001b[1;35mdataset\u001b[0m)\n",
      "Clone attempt:  67%|████▋  | 2.00/3.00 [00:00<00:00, 19.3 Candidate locations/s]\n",
      "Enumerating: 0.00 Objects [00:00, ? Objects/s]\u001b[A\n",
      "                                              \u001b[A\n"
     ]
    },
    {
     "name": "stdout",
     "output_type": "stream",
     "text": [
      "Receiving:   0%|                             | 0.00/1.12k [00:00<?, ? Objects/s]\u001b[A\n",
      "                                                                                \u001b[A\n",
      "Resolving:   0%|                                | 0.00/306 [00:00<?, ? Deltas/s]\u001b[A\n",
      "[INFO   ] Scanning for unlocked files (this may take some time)                 \u001b[A\n",
      "[INFO   ] Remote origin not usable by git-annex; setting annex-ignore \n",
      "[INFO   ] access to 1 dataset sibling public-s3 not auto-enabled, enable with:\n",
      "| \t\tdatalad siblings -d \"/home/jovyan/curriculum/we-nipreps-esteban/templateflow/tpl-MNIInfant\" enable -s public-s3 \n",
      "[INFO   ] Submodule HEAD got detached. Resetting branch master to point to 89c8e09a. Original location was 2cee62b3 \n",
      "\u001b[1;1minstall\u001b[0m(\u001b[1;32mok\u001b[0m): /home/jovyan/curriculum/we-nipreps-esteban/templateflow/tpl-MNIInfant (\u001b[1;35mdataset\u001b[0m)\n",
      "Clone attempt:   0%|              | 0.00/3.00 [00:00<?, ? Candidate locations/s]\n",
      "Enumerating: 0.00 Objects [00:00, ? Objects/s]\u001b[A\n",
      "                                              \u001b[A\n",
      "Receiving:   0%|                             | 0.00/1.75k [00:00<?, ? Objects/s]\u001b[A\n",
      "                                                                                \u001b[A\n",
      "Resolving:   0%|                                | 0.00/748 [00:00<?, ? Deltas/s]\u001b[A\n",
      "[INFO   ] Scanning for unlocked files (this may take some time)                 \u001b[A\n",
      "[INFO   ] Remote origin not usable by git-annex; setting annex-ignore \n",
      "[INFO   ] access to 3 dataset siblings prune-s3, public-s3-2, public-s3 not auto-enabled, enable with:\n",
      "| \t\tdatalad siblings -d \"/home/jovyan/curriculum/we-nipreps-esteban/templateflow/tpl-MNIPediatricAsym\" enable -s SIBLING \n",
      "[INFO   ] Submodule HEAD got detached. Resetting branch master to point to 0c331df8. Original location was a60c5463 \n",
      "\u001b[1;1minstall\u001b[0m(\u001b[1;32mok\u001b[0m): /home/jovyan/curriculum/we-nipreps-esteban/templateflow/tpl-MNIPediatricAsym (\u001b[1;35mdataset\u001b[0m)\n",
      "Clone attempt:   0%|              | 0.00/3.00 [00:00<?, ? Candidate locations/s]\n",
      "Enumerating: 0.00 Objects [00:00, ? Objects/s]\u001b[A\n",
      "                                              \u001b[A\n",
      "Counting:   0%|                                | 0.00/191 [00:00<?, ? Objects/s]\u001b[A\n",
      "                                                                                \u001b[A\n",
      "Compressing:   0%|                             | 0.00/103 [00:00<?, ? Objects/s]\u001b[A\n",
      "                                                                                \u001b[A\n",
      "Receiving:   0%|                               | 0.00/511 [00:00<?, ? Objects/s]\u001b[A\n",
      "                                                                                \u001b[A\n",
      "Resolving:   0%|                                | 0.00/100 [00:00<?, ? Deltas/s]\u001b[A\n",
      "[INFO   ] Scanning for unlocked files (this may take some time)                 \u001b[A\n",
      "[INFO   ] Remote origin not usable by git-annex; setting annex-ignore \n",
      "[INFO   ] access to 1 dataset sibling public-s3 not auto-enabled, enable with:\n",
      "| \t\tdatalad siblings -d \"/home/jovyan/curriculum/we-nipreps-esteban/templateflow/tpl-NKI\" enable -s public-s3 \n",
      "[INFO   ] Submodule HEAD got detached. Resetting branch master to point to 09a8ed92. Original location was 4a8b5957 \n",
      "\u001b[1;1minstall\u001b[0m(\u001b[1;32mok\u001b[0m): /home/jovyan/curriculum/we-nipreps-esteban/templateflow/tpl-NKI (\u001b[1;35mdataset\u001b[0m)\n",
      "Clone attempt:   0%|              | 0.00/3.00 [00:00<?, ? Candidate locations/s]\n",
      "Enumerating: 0.00 Objects [00:00, ? Objects/s]\u001b[A\n",
      "                                              \u001b[A\n",
      "Receiving:   0%|                               | 0.00/312 [00:00<?, ? Objects/s]\u001b[A\n",
      "                                                                                \u001b[A\n",
      "Resolving:   0%|                                | 0.00/101 [00:00<?, ? Deltas/s]\u001b[A\n",
      "[INFO   ] Scanning for unlocked files (this may take some time)                 \u001b[A\n",
      "[INFO   ] Remote origin not usable by git-annex; setting annex-ignore \n",
      "[INFO   ] access to 1 dataset sibling public-s3 not auto-enabled, enable with:\n",
      "| \t\tdatalad siblings -d \"/home/jovyan/curriculum/we-nipreps-esteban/templateflow/tpl-OASIS30ANTs\" enable -s public-s3 \n",
      "[INFO   ] Submodule HEAD got detached. Resetting branch master to point to 857cc02a. Original location was 4f7f01e0 \n",
      "\u001b[1;1minstall\u001b[0m(\u001b[1;32mok\u001b[0m): /home/jovyan/curriculum/we-nipreps-esteban/templateflow/tpl-OASIS30ANTs (\u001b[1;35mdataset\u001b[0m)\n",
      "Clone attempt:  67%|████▋  | 2.00/3.00 [00:00<00:00, 14.6 Candidate locations/s]\n",
      "Enumerating: 0.00 Objects [00:00, ? Objects/s]\u001b[A\n",
      "                                              \u001b[A\n",
      "Receiving:   0%|                               | 0.00/293 [00:00<?, ? Objects/s]\u001b[A\n",
      "                                                                                \u001b[A\n",
      "Resolving:   0%|                               | 0.00/94.0 [00:00<?, ? Deltas/s]\u001b[A\n",
      "[INFO   ] Scanning for unlocked files (this may take some time)                 \u001b[A\n",
      "[INFO   ] Remote origin not usable by git-annex; setting annex-ignore \n",
      "[INFO   ] access to 1 dataset sibling public-s3 not auto-enabled, enable with:\n",
      "| \t\tdatalad siblings -d \"/home/jovyan/curriculum/we-nipreps-esteban/templateflow/tpl-PNC\" enable -s public-s3 \n",
      "[INFO   ] Submodule HEAD got detached. Resetting branch master to point to 2c1263af. Original location was bd0d1fec \n",
      "Clone attempt:   0%|              | 0.00/3.00 [00:00<?, ? Candidate locations/s]\n",
      "Enumerating: 0.00 Objects [00:00, ? Objects/s]\u001b[A\n",
      "                                              \u001b[A\n",
      "Counting:   0%|                                | 0.00/353 [00:00<?, ? Objects/s]\u001b[A\n",
      "                                                                                \u001b[A\n",
      "Compressing:   0%|                             | 0.00/195 [00:00<?, ? Objects/s]\u001b[A\n",
      "                                                                                \u001b[A\n",
      "Receiving:   0%|                               | 0.00/353 [00:00<?, ? Objects/s]\u001b[A\n",
      "                                                                                \u001b[A\n",
      "Resolving:   0%|                                | 0.00/108 [00:00<?, ? Deltas/s]\u001b[A\n",
      "[INFO   ] Scanning for unlocked files (this may take some time)                 \u001b[A\n",
      "[INFO   ] Remote origin not usable by git-annex; setting annex-ignore \n",
      "[INFO   ] access to 1 dataset sibling public-s3 not auto-enabled, enable with:\n",
      "| \t\tdatalad siblings -d \"/home/jovyan/curriculum/we-nipreps-esteban/templateflow/tpl-WHS\" enable -s public-s3 \n",
      "[INFO   ] Submodule HEAD got detached. Resetting branch master to point to a3f6613b. Original location was 6e71dd91 \n",
      "Clone attempt:   0%|              | 0.00/3.00 [00:00<?, ? Candidate locations/s]\n",
      "Enumerating: 0.00 Objects [00:00, ? Objects/s]\u001b[A\n",
      "                                              \u001b[A\n",
      "Counting:   0%|                                | 0.00/493 [00:00<?, ? Objects/s]\u001b[A\n",
      "                                                                                \u001b[A\n",
      "Compressing:   0%|                             | 0.00/249 [00:00<?, ? Objects/s]\u001b[A\n",
      "                                                                                \u001b[A\n",
      "Receiving:   0%|                             | 0.00/1.31k [00:00<?, ? Objects/s]\u001b[A\n",
      "                                                                                \u001b[A\n",
      "Resolving:   0%|                                | 0.00/438 [00:00<?, ? Deltas/s]\u001b[A\n",
      "[INFO   ] Scanning for unlocked files (this may take some time)                 \u001b[A\n",
      "[INFO   ] Remote origin not usable by git-annex; setting annex-ignore \n",
      "[INFO   ] access to 1 dataset sibling public-s3 not auto-enabled, enable with:\n",
      "| \t\tdatalad siblings -d \"/home/jovyan/curriculum/we-nipreps-esteban/templateflow/tpl-fsLR\" enable -s public-s3 \n",
      "[INFO   ] Submodule HEAD got detached. Resetting branch master to point to 87a18d80. Original location was bf44e186 \n",
      "Clone attempt:  67%|████▋  | 2.00/3.00 [00:00<00:00, 17.1 Candidate locations/s]\n",
      "Enumerating: 0.00 Objects [00:00, ? Objects/s]\u001b[A\n",
      "                                              \u001b[A\n",
      "Counting:   0%|                                | 0.00/197 [00:00<?, ? Objects/s]\u001b[A\n",
      "                                                                                \u001b[A\n",
      "Compressing:   0%|                             | 0.00/127 [00:00<?, ? Objects/s]\u001b[A\n",
      "                                                                                \u001b[A\n",
      "Receiving:   0%|                             | 0.00/1.50k [00:00<?, ? Objects/s]\u001b[A\n",
      "                                                                                \u001b[A\n",
      "Resolving:   0%|                                | 0.00/513 [00:00<?, ? Deltas/s]\u001b[A\n"
     ]
    },
    {
     "name": "stdout",
     "output_type": "stream",
     "text": [
      "[INFO   ] Scanning for unlocked files (this may take some time)                 \u001b[A\n",
      "[INFO   ] Remote origin not usable by git-annex; setting annex-ignore \n",
      "[INFO   ] access to 1 dataset sibling public-s3 not auto-enabled, enable with:\n",
      "| \t\tdatalad siblings -d \"/home/jovyan/curriculum/we-nipreps-esteban/templateflow/tpl-fsaverage\" enable -s public-s3 \n",
      "[INFO   ] Submodule HEAD got detached. Resetting branch master to point to 7e2a6f6a. Original location was 7f8c4b8f \n",
      "  [4 similar messages have been suppressed]\n",
      "action summary:\n",
      "  install (ok: 14)\n",
      "\u001b[0m"
     ]
    }
   ],
   "source": [
    "!datalad install -r ///templateflow"
   ]
  },
  {
   "cell_type": "code",
   "execution_count": 7,
   "metadata": {
    "slideshow": {
     "slide_type": "subslide"
    }
   },
   "outputs": [
    {
     "name": "stdout",
     "output_type": "stream",
     "text": [
      "dataset_description.json  tpl-MNI152NLin2009cSym  tpl-NKI\r\n",
      "tpl-fsaverage\t\t  tpl-MNI152NLin6Asym\t  tpl-OASIS30ANTs\r\n",
      "tpl-fsLR\t\t  tpl-MNI152NLin6Sym\t  tpl-PNC\r\n",
      "tpl-MNI152Lin\t\t  tpl-MNIInfant\t\t  tpl-WHS\r\n",
      "tpl-MNI152NLin2009cAsym   tpl-MNIPediatricAsym\r\n"
     ]
    }
   ],
   "source": [
    "!ls templateflow/"
   ]
  },
  {
   "cell_type": "code",
   "execution_count": null,
   "metadata": {},
   "outputs": [],
   "source": []
  }
 ],
 "metadata": {
  "celltoolbar": "Slideshow",
  "kernelspec": {
   "display_name": "Python 3",
   "language": "python",
   "name": "python3"
  },
  "language_info": {
   "codemirror_mode": {
    "name": "ipython",
    "version": 3
   },
   "file_extension": ".py",
   "mimetype": "text/x-python",
   "name": "python",
   "nbconvert_exporter": "python",
   "pygments_lexer": "ipython3",
   "version": "3.7.8"
  }
 },
 "nbformat": 4,
 "nbformat_minor": 4
}
