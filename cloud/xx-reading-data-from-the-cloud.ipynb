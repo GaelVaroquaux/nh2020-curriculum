{
 "cells": [
  {
   "cell_type": "markdown",
   "metadata": {},
   "source": [
    "# Getting data from the cloud\n",
    "\n",
    "Now that you have a machine running in the cloud, how do you get your data into this machine so that you can analyze it? In AWS, data is usually stored in the Simple Storage Service (S3) in \"buckets\". One way to get data out of these buckets and into computations is to use a library that knows how to read "
   ]
  },
  {
   "cell_type": "code",
   "execution_count": 1,
   "metadata": {},
   "outputs": [],
   "source": [
    "import s3fs"
   ]
  },
  {
   "cell_type": "code",
   "execution_count": 3,
   "metadata": {},
   "outputs": [],
   "source": [
    "fs = s3fs.S3FileSystem()"
   ]
  },
  {
   "cell_type": "code",
   "execution_count": 4,
   "metadata": {},
   "outputs": [],
   "source": [
    "# s3://openneuro.org/ds000233 ds000233-download/"
   ]
  },
  {
   "cell_type": "code",
   "execution_count": 6,
   "metadata": {},
   "outputs": [],
   "source": [
    "ll = fs.ls('/openneuro.org/')"
   ]
  },
  {
   "cell_type": "code",
   "execution_count": 8,
   "metadata": {},
   "outputs": [
    {
     "data": {
      "text/plain": [
       "388"
      ]
     },
     "execution_count": 8,
     "metadata": {},
     "output_type": "execute_result"
    }
   ],
   "source": [
    "len(ll)"
   ]
  },
  {
   "cell_type": "code",
   "execution_count": 9,
   "metadata": {},
   "outputs": [],
   "source": [
    "fs.get('openneuro.org/ds000001/sub-01/anat/sub-01_T1w.nii.gz', './foo.nii.gz')"
   ]
  },
  {
   "cell_type": "code",
   "execution_count": 10,
   "metadata": {},
   "outputs": [
    {
     "name": "stdout",
     "output_type": "stream",
     "text": [
      "README.md                             xx-reading-data-from-the-cloud.ipynb\r\n",
      "foo.nii.gz\r\n"
     ]
    }
   ],
   "source": [
    "ls"
   ]
  },
  {
   "cell_type": "code",
   "execution_count": null,
   "metadata": {},
   "outputs": [],
   "source": [
    "fs.ls('fcp-indi/data/Projects/RocklandSample/RawDataBIDS/sub-A00008326/ses-ALGA/ses-ALGA/dwi/sub-A00008326_ses-ALGA_dwi.bvec')"
   ]
  },
  {
   "cell_type": "code",
   "execution_count": 11,
   "metadata": {},
   "outputs": [],
   "source": [
    "fname = 'openneuro.org/ds000001/sub-01/anat/sub-01_T1w.nii.gz'"
   ]
  },
  {
   "cell_type": "code",
   "execution_count": null,
   "metadata": {},
   "outputs": [],
   "source": []
  },
  {
   "cell_type": "code",
   "execution_count": 18,
   "metadata": {},
   "outputs": [],
   "source": [
    "import gzip\n",
    "from io import BytesIO\n",
    "import nibabel as nib\n",
    "\n",
    "with fs.open(fname) as ff:\n",
    "    zz = gzip.open(ff)\n",
    "    rr = zz.read()\n",
    "    bb = BytesIO(rr)\n",
    "    fh = nib.FileHolder(fileobj=bb)\n",
    "    img = nib.Nifti1Image.from_file_map({'header': fh, 'image': fh})"
   ]
  },
  {
   "cell_type": "code",
   "execution_count": null,
   "metadata": {},
   "outputs": [],
   "source": []
  }
 ],
 "metadata": {
  "kernelspec": {
   "display_name": "Python 3",
   "language": "python",
   "name": "python3"
  }
 },
 "nbformat": 4,
 "nbformat_minor": 4
}
