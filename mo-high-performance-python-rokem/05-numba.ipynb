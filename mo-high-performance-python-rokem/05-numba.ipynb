{
 "cells": [
  {
   "cell_type": "markdown",
   "metadata": {},
   "source": [
    "### Numba does something quite different\n",
    "\n",
    "[Numba](http://numba.pydata.org/) is a library that enables just-in-time (JIT)\n",
    "compiling of Python code. It uses the [LLVM](http://llvm.org/) tool chain to do\n",
    "this. Briefly, what LLVM does takes an intermediate representation of your code\n",
    "and compile that down to highly optimized machine code, as the code is running.\n",
    "That means that if you can get to this IR, you can get your code to run really\n",
    "fast.\n",
    "\n",
    "Numba is the bridge between the Python code and this intermediate\n",
    "representation. Along the way, it does some clever type inference (for example,\n",
    "if the code can take different types as input, integers vs. floats for example),\n",
    "which allows it to be even faster. And there is a bunch of additional\n",
    "cleverness. In particular, Numba is designed with scientific/numerical code in\n",
    "mind, so it can sometimes leverage the fact that you are using Numpy. But we\n",
    "won't get into that here.\n",
    "\n",
    "### Installing\n",
    "\n",
    "Numba can be installed using `conda`:\n",
    "\n",
    "```\n",
    "conda install numba\n",
    "```"
   ]
  },
  {
   "cell_type": "markdown",
   "metadata": {},
   "source": [
    "### Just-in-time compiling\n",
    "\n",
    "Let's look again at the Fibonacci example we used before:"
   ]
  },
  {
   "cell_type": "code",
   "execution_count": null,
   "metadata": {},
   "outputs": [],
   "source": [
    "def fib(n):\n",
    "    a, b = 1, 1\n",
    "    for i in range(n):\n",
    "        a, b = a+b, a\n",
    "\n",
    "    return a"
   ]
  },
  {
   "cell_type": "markdown",
   "metadata": {},
   "source": [
    "To get it to just-in-time compile on the first time it's run, we use Numba's\n",
    "`jit` function:"
   ]
  },
  {
   "cell_type": "code",
   "execution_count": null,
   "metadata": {},
   "outputs": [],
   "source": [
    "from numba import jit\n",
    "fibj = jit(fib)"
   ]
  },
  {
   "cell_type": "markdown",
   "metadata": {},
   "source": [
    "Comparing timings we see a roughly ten-fold speedup. But note that we have to run this more than once to see this speedup. This is because the first time the code is run, it is compiled."
   ]
  },
  {
   "cell_type": "code",
   "execution_count": null,
   "metadata": {},
   "outputs": [],
   "source": [
    "%timeit fibj(10)\n",
    "%timeit fib(10)"
   ]
  },
  {
   "cell_type": "markdown",
   "metadata": {},
   "source": [
    "Another way to use `jit` is as a decorator:"
   ]
  },
  {
   "cell_type": "code",
   "execution_count": null,
   "metadata": {},
   "outputs": [],
   "source": [
    "@jit\n",
    "def fibj(n):\n",
    "    a, b = 1, 1\n",
    "    for i in range(n):\n",
    "        a, b = a+b, a\n",
    "\n",
    "    return a"
   ]
  },
  {
   "cell_type": "markdown",
   "metadata": {},
   "source": [
    "> ## Python Decorators\n",
    ">\n",
    "> Decorators are a way to uniformly modify functions in a particular way. You\n",
    "> can think of them as functions that take functions as input and produce a\n",
    "> function as output (as explained on [this](http://matthew-brett.github.io/pydagogue/decorating_for_dummies.html) page by Matthew Brett).\n",
    ">\n",
    "> But the most concise explanation (as pointed out by MB) actually comes\n",
    "> from the [Python reference documentation](https://docs.python.org/3/reference/compound_stmts.html#function-definitions):\n",
    ">\n",
    "> A function definition may be wrapped by one or more\n",
    "> (*decorator*)[http://docs.python.org/glossary.html#term-decorator]\n",
    "> expressions. Decorator expressions are evaluated when the function is\n",
    "> defined, in the scope that contains the function definition. The result\n",
    "> must be a callable, which is invoked with the function object as the\n",
    "> only argument. The returned value is bound to the function name\n",
    "> instead of the function object. Multiple decorators are applied in\n",
    "> nested fashion. For example, the following code:\n",
    ">\n",
    ">    @f1(arg)\n",
    ">    @f2\n",
    ">    def func(): pass\n",
    ">\n",
    "> is equivalent to:\n",
    ">\n",
    ">    def func(): pass\n",
    ">    func = f1(arg)(f2(func))\n",
    ">\n",
    "> As pointed out there, they are not limited neccesarily to function\n",
    "> definitions, and [can also be used on class definitions](https://docs.python.org/3/reference/compound_stmts.html#class-definitions).\n",
    "{: .callout}"
   ]
  },
  {
   "cell_type": "markdown",
   "metadata": {},
   "source": [
    "## How does Numba work?\n",
    "\n",
    "Do understand a little bit about how Numba works, let's see where it fails to\n",
    "work. Let's rewrite the `fib` function using a custom Python object:"
   ]
  },
  {
   "cell_type": "code",
   "execution_count": null,
   "metadata": {},
   "outputs": [],
   "source": [
    "class MyInt(object):\n",
    "    def __init__(self, n):\n",
    "        self.int = n\n",
    "\n",
    "\n",
    "def fib_obj(n):\n",
    "    a, b = MyInt(1), MyInt(1)\n",
    "    for i in range(n.int):\n",
    "        a.int, b.int = a.int+b.int, a.int\n",
    "\n",
    "    return a.int"
   ]
  },
  {
   "cell_type": "markdown",
   "metadata": {},
   "source": [
    "This looks odd, but it works in the same way that the function above does\n",
    "It's a bit slower, though (why do you think that is?).\n",
    "\n",
    "Now, let's try to speed this up with Numba:"
   ]
  },
  {
   "cell_type": "code",
   "execution_count": null,
   "metadata": {},
   "outputs": [],
   "source": [
    "@jit\n",
    "def fib_obj_j(n):\n",
    "    a, b = MyInt(1), MyInt(1)\n",
    "    for i in range(n.int):\n",
    "        a.int, b.int = a.int+b.int, a.int\n",
    "\n",
    "    return a.int"
   ]
  },
  {
   "cell_type": "markdown",
   "metadata": {},
   "source": [
    "Timing this, we find it to be substantially *slower* than the non-jitted Python\n",
    "version. The reason for this is that Numba is unable to do any type inference\n",
    "here. Instead it defaults to the non-optimized Python code."
   ]
  },
  {
   "cell_type": "code",
   "execution_count": null,
   "metadata": {},
   "outputs": [],
   "source": [
    "%timeit fib_obj_j(MyInt(10))"
   ]
  },
  {
   "cell_type": "markdown",
   "metadata": {},
   "source": [
    "### What is it really good for?\n",
    "\n",
    "Let's look at an example where Numba really shines (taken from [a blog post by Jake Vanderplas](https://jakevdp.github.io/blog/2012/08/08/memoryview-benchmarks/)).\n",
    "Consider a numpy function to calculate the parwise Euclidean distances between\n",
    "two sets of coordinates:\n",
    "    "
   ]
  },
  {
   "cell_type": "code",
   "execution_count": null,
   "metadata": {},
   "outputs": [],
   "source": [
    "def pdist_numpy(xs):\n",
    "    return np.sqrt(((xs[:,None,:] - xs)**2).sum(-1))"
   ]
  },
  {
   "cell_type": "markdown",
   "metadata": {},
   "source": [
    "We can use Numba to get this function to JIT (notice this is another way of `jit`-ing):"
   ]
  },
  {
   "cell_type": "code",
   "execution_count": null,
   "metadata": {},
   "outputs": [],
   "source": [
    "pdist_numba = jit(pdist_numpy)"
   ]
  },
  {
   "cell_type": "markdown",
   "metadata": {},
   "source": [
    "Let's compare to Cython as well (this also demonstrates how to use numpy in\n",
    "Cython code!):"
   ]
  },
  {
   "cell_type": "code",
   "execution_count": null,
   "metadata": {},
   "outputs": [],
   "source": [
    "%load_ext cython"
   ]
  },
  {
   "cell_type": "code",
   "execution_count": null,
   "metadata": {},
   "outputs": [],
   "source": [
    "%%cython\n",
    "import numpy as cnp\n",
    "def pdistx(xs):\n",
    "    return cnp.sqrt(((xs[:,None,:] - xs)**2).sum(-1))"
   ]
  },
  {
   "cell_type": "markdown",
   "metadata": {},
   "source": [
    "Timing all of these:"
   ]
  },
  {
   "cell_type": "code",
   "execution_count": null,
   "metadata": {},
   "outputs": [],
   "source": [
    "import numpy as np"
   ]
  },
  {
   "cell_type": "code",
   "execution_count": null,
   "metadata": {
    "scrolled": false
   },
   "outputs": [],
   "source": [
    "time_pdist_numpy = %timeit -o pdist_numpy(np.random.randn(5, 100))\n",
    "time_pdist_numba = %timeit -o pdist_numba(np.random.randn(5, 100))\n",
    "time_pdistx = %timeit -o pdistx(np.random.randn(5, 100))\n",
    "print(time_pdist_numpy.best/time_pdist_numba.best)\n",
    "print(time_pdist_numpy.best/time_pdistx.best)"
   ]
  },
  {
   "cell_type": "markdown",
   "metadata": {},
   "source": [
    "We can see that we really can't beat numpy doing any of these.\n",
    "\n",
    "But consider the following naive implementation of the same function in Python:"
   ]
  },
  {
   "cell_type": "code",
   "execution_count": null,
   "metadata": {},
   "outputs": [],
   "source": [
    "def pdist_python(xs):\n",
    "    n, p = xs.shape\n",
    "    D = np.empty((n, n))\n",
    "    for i in range(n):\n",
    "        for j in range(n):\n",
    "            s = 0.0\n",
    "            for k in range(p):\n",
    "                tmp = xs[i,k] - xs[j,k]\n",
    "                s += tmp * tmp\n",
    "            D[i, j] = s**0.5\n",
    "    return D"
   ]
  },
  {
   "cell_type": "code",
   "execution_count": null,
   "metadata": {},
   "outputs": [],
   "source": [
    "time_pdist_python = %timeit -o pdist_python(np.random.randn(5, 100))\n",
    "print(time_pdist_python.best/time_pdist_numpy.best)"
   ]
  },
  {
   "cell_type": "markdown",
   "metadata": {},
   "source": [
    "This is terrible! But this function can be substantially sped up with `jit`:"
   ]
  },
  {
   "cell_type": "code",
   "execution_count": null,
   "metadata": {},
   "outputs": [],
   "source": [
    "pdist_python_numba = jit(pdist_python)"
   ]
  },
  {
   "cell_type": "code",
   "execution_count": null,
   "metadata": {},
   "outputs": [],
   "source": [
    "time_pdist_python_numba = %timeit -o pdist_python_numba(np.random.randn(5, 100))\n",
    "print(time_pdist_numpy.best/time_pdist_python_numba.best)"
   ]
  },
  {
   "cell_type": "markdown",
   "metadata": {},
   "source": [
    "This is tremendously powerful, because there are many physical and statistical\n",
    "functions that would be very hard to vectorize. Instead, in Numba, you are\n",
    "*encouraged* to use nested loops, because Numba can leverage these, together\n",
    "with type inference to do things blazingly fast.\n",
    "\n",
    "### Using annotations\n",
    "\n",
    "It is possible to use annotations in Numba as well.\n",
    "\n",
    "To do that, we will need to create a Python module of our code (say `fib.py`)\n",
    "and then add a `__main__` block, so that the code gets run (remember, it's\n",
    "just-in-time compilation!) and can be annotated. For example:\n",
    "\n",
    "\n",
    "```\n",
    "from numba import jit\n",
    "\n",
    "\n",
    "class MyInt(object):\n",
    "    def __init__(self, n):\n",
    "        self.int = n\n",
    "\n",
    "@jit\n",
    "def fib_obj(n):\n",
    "    a, b = MyInt(1), MyInt(1)\n",
    "    for i in range(n.int):\n",
    "        a.int, b.int = a.int+b.int, a.int\n",
    "\n",
    "    return a.int\n",
    "\n",
    "@jit\n",
    "def fib(n):\n",
    "    a, b = 1, 1\n",
    "    for i in range(n):\n",
    "        a, b = a + b, a\n",
    "    return a\n",
    "\n",
    "\n",
    "if __name__ == \"__main__\":\n",
    "    fib_obj(MyInt(10))\n",
    "    fib(10)\n",
    "```\n",
    "    "
   ]
  },
  {
   "cell_type": "markdown",
   "metadata": {},
   "source": [
    "> ### What does `if __name__ == \"__main__\":` do?\n",
    ">\n",
    "> This block can be added to a Python module to make it work both as a module\n",
    "> and as a script. When a module is imported all of the function definitions\n",
    "> in this module get executed, but the code in the functions does not get run.\n",
    "> If, however, there is some code that is just sitting there .\n",
    ">\n",
    "> Defining a main block (fencing it inside an indented block under the\n",
    "> `if __name__ == \"__main__\":` statement) allows us to define a specific part\n",
    "> of the code that does not get run on importing, but does get run when the\n",
    "> code is interpreted. For example, when `python fib.py` is called from the\n",
    "> command line\n",
    ">\n",
    "\n",
    "\n",
    "Annotations can then be done using:\n",
    "\n",
    "\n",
    "```\n",
    "numba --annotate-html fib.html fib.py\n",
    "```\n",
    "\n",
    "In this case, the code that interacts with Python objects that can't be\n",
    "optimized is marked in red. If you click on the `show numba IR` text, you can\n",
    "view the intermediate representation used by Numba to pass to LLVM. In general,\n",
    "the more you see `pyobject` in there, the less Numba can do in terms of type\n",
    "inferece to optimize your code. But whenever you see types inferred (e.g.\n",
    "`int64`), the better Numba can do.\n",
    "\n",
    "\n",
    "> # Numba Annotations\n",
    ">\n",
    "> Annotate the code we used for Euclidean distance calculations. Can you point\n",
    "> out in the annotation why Numba-izing the naive implementation works better\n",
    "> than operating on the Numpy-based implementation?\n",
    ">"
   ]
  }
 ],
 "metadata": {
  "kernelspec": {
   "display_name": "Python 3",
   "language": "python",
   "name": "python3"
  },
  "language_info": {
   "codemirror_mode": {
    "name": "ipython",
    "version": 3
   },
   "file_extension": ".py",
   "mimetype": "text/x-python",
   "name": "python",
   "nbconvert_exporter": "python",
   "pygments_lexer": "ipython3",
   "version": "3.7.0"
  }
 },
 "nbformat": 4,
 "nbformat_minor": 2
}
