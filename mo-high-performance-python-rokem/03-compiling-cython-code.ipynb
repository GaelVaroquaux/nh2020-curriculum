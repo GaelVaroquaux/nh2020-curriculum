{
 "cells": [
  {
   "cell_type": "markdown",
   "metadata": {},
   "source": [
    "# Compiling Cython code"
   ]
  },
  {
   "cell_type": "markdown",
   "metadata": {},
   "source": [
    "\n",
    "### `pyx` is for Cython\n",
    "\n",
    "Typical usage of Cython will include the writing of Python and Cython code side\n",
    "by side in the same library. Consider our Fibonacci series code.\n",
    "\n",
    "To mark it as a Cython (rather than Python) file, we place it in a `.pyx` file.\n",
    "\n",
    "We create two files. The first is a Cython file that contains the code we've\n",
    "already written for the Fibonacci series. We'll save it as `fib.pyx`:\n",
    "\n",
    "\n",
    "```\n",
    "\n",
    "def fib(int n):\n",
    "    cdef int i, a, b\n",
    "    a, b = 1, 1\n",
    "    for i in range(n):\n",
    "        a, b = a+b, a\n",
    "\n",
    "    return a\n",
    "\n",
    "```\n",
    "\n",
    "\n",
    "In another file, we'll set up the compilation. The Python\n",
    "[`distutils`](https://docs.python.org/3/library/distutils.html) library has\n",
    "functionality to deal with extension code, and Cython knows how to take\n",
    "advantage of that to orchestrate the compilation of `pyx` files:\n",
    "\n",
    "\n",
    "```\n",
    "from distutils.core import setup\n",
    "from distutils.extension import Extension\n",
    "from Cython.Distutils import build_ext\n",
    "\n",
    "ext = Extension(\"fib\", sources=[\"fib.pyx\"])\n",
    "\n",
    "setup(ext_modules=[ext],\n",
    "      cmdclass={'build_ext': build_ext})\n",
    "```\n",
    "\n",
    "To compile the fib.pyx file, we run the `setup` file:\n",
    "\n",
    "```\n",
    "python setup_fib.py build_ext --inplace [--compiler=mingw32 #only for Windows!]\n",
    "```\n",
    "\n",
    "This creates a `fib.o` compiled object and a `fib.so` bundled Python extension,\n",
    "such that in a Python/IPython session, you can now do:"
   ]
  },
  {
   "cell_type": "code",
   "execution_count": null,
   "metadata": {},
   "outputs": [],
   "source": [
    "import fib\n",
    "a = fib.fib(10)"
   ]
  },
  {
   "cell_type": "markdown",
   "metadata": {},
   "source": [
    "### C fails fast\n",
    "\n",
    "The function that we created here is statically typed. That means that, in\n",
    "contrast to a Python function it will only accept the types of objects for which\n",
    "it has been compiled.\n",
    "\n",
    "For example, if you run the function with an input `foo` for which `int(foo)`\n",
    "would fail, it will not . For example, we can try running:\n",
    "\n",
    "fib.fib(\"a string\")\n",
    "\n",
    "The dynamically typed Python could not identify that this is not the right type\n",
    "for the operations in this function, but the C code, that is statically typed\n",
    "recognizes this upfront, and fails immediately upon calling the function.\n",
    "\n",
    "### Using `pyximport`\n",
    "\n",
    "An even easier way to use cython is through the `pyximport` mechanism. For\n",
    "example, we can create a Python file called `run_fib.py` that has the following\n",
    "content:"
   ]
  },
  {
   "cell_type": "code",
   "execution_count": null,
   "metadata": {},
   "outputs": [],
   "source": [
    "import pyximport   # This is part of Cython\n",
    "pyximport.install()\n",
    "import fib # This finds the pyx file, compiles automatically!\n",
    "print(fib.fib(10))"
   ]
  },
  {
   "cell_type": "markdown",
   "metadata": {},
   "source": [
    "Looking around in this folder, we see that this time, there is no `.c`, `.o` or\n",
    "`.so` files around. This looks like magic, but we can resolve the mystery by\n",
    "asking Python where it loaded this module from:"
   ]
  },
  {
   "cell_type": "code",
   "execution_count": null,
   "metadata": {},
   "outputs": [],
   "source": [
    "fib.__file__"
   ]
  },
  {
   "cell_type": "markdown",
   "metadata": {},
   "source": [
    "## Optimizing further: using `cdef`\n",
    "\n",
    "Typically, we will write an entire Cython module with functions, classes, and so\n",
    "forth. Some of these objects need to have a public interface, so that they can\n",
    "be used by our Python code, but some of these are local to the Cython module,\n",
    "and don't need to be available to use in python code. We can gain additional\n",
    "performance boosts by defining them in such a way that the compiler knows they\n",
    "don't need to have a Python interface.\n",
    "\n",
    "We can use the `cdef` keyword to define local functions and even types. For\n",
    "example, in a Cython file called `physics.pyx`, we define the following function\n",
    "and class:\n",
    "\n",
    "```\n",
    "cdef float distance(float *x, float *y, int n):\n",
    "  cdef:  # same as using two lines each starting with `cdef`\n",
    "    int i\n",
    "    float d = 0.0\n",
    "\n",
    "  for i in range(n):\n",
    "      d += (x[i]- y[i]) **2\n",
    "  return d\n",
    "\n",
    "cdef class Particle(object):\n",
    "    cdef float psn[3], vel[3]\n",
    "    cdef int id\n",
    "```\n",
    "\n",
    "These defined objects would be unavailable from the Python side, but will be\n",
    "available to other functions within that `pyx` file/module. They have the\n",
    "advantage that they have no Python overhead when called, so their performance is\n",
    "very good.\n",
    "\n",
    "### Using `cpdef`\n",
    "\n",
    "Alternatively, defining these objects with `cpdef` will create both the\n",
    "Cython-available and the Python-available versions of a function or class. Not\n",
    "as simple, because the inputs now need to be something that python knows how to\n",
    "produce (array pointers are not one of those...). Instead, here we use [typed memory views](http://cython.readthedocs.io/en/latest/src/userguide/memoryviews.html).\n",
    "This is a 'view' onto the memory occupied by a numpy array from within the C\n",
    "side of things. This makes things go really fast, because instead of passing in\n",
    "the array, you are passing in a view into the memory (see also\n",
    "[this blog post](https://jakevdp.github.io/blog/2012/08/08/memoryview-benchmarks/)\n",
    "for much more details on this).\n",
    "\n",
    "```\n",
    " cpdef float distance(double[:] x, double[:] y):\n",
    "     cdef int i\n",
    "     cdef int n = x.shape[0]\n",
    "     cdef float d = 0.0\n",
    "     for i in range(n):\n",
    "         d += (x[i] - y[i]) ** 2\n",
    "     return d\n",
    "```\n",
    "\n",
    "Finally, make sure that you are not writing Cython code that you could easily\n",
    "get from somewhere else. If it's a basic operation that many people might use,\n",
    "it's probably already been implemented (and it's probably better implemented\n",
    "than you would implement it, see\n",
    "[`scipy.spatial.distances.cdist`](http://docs.scipy.org/doc/scipy/reference/generated/scipy.spatial.distance.cdist.html))."
   ]
  }
 ],
 "metadata": {
  "kernelspec": {
   "display_name": "Python 3",
   "language": "python",
   "name": "python3"
  },
  "language_info": {
   "codemirror_mode": {
    "name": "ipython",
    "version": 3
   },
   "file_extension": ".py",
   "mimetype": "text/x-python",
   "name": "python",
   "nbconvert_exporter": "python",
   "pygments_lexer": "ipython3",
   "version": "3.7.0"
  }
 },
 "nbformat": 4,
 "nbformat_minor": 2
}
