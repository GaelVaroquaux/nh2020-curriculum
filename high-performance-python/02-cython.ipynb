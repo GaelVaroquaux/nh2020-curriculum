{
 "cells": [
  {
   "cell_type": "markdown",
   "metadata": {},
   "source": [
    "# Introducing Cython\n",
    "\n",
    "Cython is a technology that allows us to easily bridge between python,\n",
    "and the underlying C representations. The main purpose of the library is\n",
    "to take code that is written in python, and, provided some additional\n",
    "amount of (mostly type) information, compile it to C, compile the C code,\n",
    "and bundle the C objects into python extensions that can then be imported\n",
    "directly into python."
   ]
  },
  {
   "cell_type": "markdown",
   "metadata": {},
   "source": [
    "### Installing Cython\n",
    "\n",
    "You can install Cython from the command line using `conda`:\n",
    "\n",
    "    conda install cython"
   ]
  },
  {
   "cell_type": "markdown",
   "metadata": {},
   "source": [
    "### A first example - why use Cython?\n",
    "\n",
    "To demonstrate the usefulness of Cython, we'll start with an atypical usage\n",
    "pattern: In the `Jupyter `notebook, we will use the `cython` extension, to\n",
    "demonstrate why and how to use cython.\n",
    "\n",
    "Later, we will also look at how to use cython in the context of modules and\n",
    "libraries. But for now, let's load the cython extension. This allows us to\n",
    "mark cells as Cython cells by starting them with `%%cython` magic."
   ]
  },
  {
   "cell_type": "code",
   "execution_count": 1,
   "metadata": {},
   "outputs": [],
   "source": [
    "%load_ext cython"
   ]
  },
  {
   "cell_type": "markdown",
   "metadata": {},
   "source": [
    "Let's see what this is good for. Consider a very simple function in Python:"
   ]
  },
  {
   "cell_type": "code",
   "execution_count": 2,
   "metadata": {},
   "outputs": [],
   "source": [
    "def my_poly(a,b):\n",
    "    return 10.5 * a + 3 * (b**2)"
   ]
  },
  {
   "cell_type": "markdown",
   "metadata": {},
   "source": [
    "The equivalent Cython function is defined in a `%%cython` cell."
   ]
  },
  {
   "cell_type": "code",
   "execution_count": 3,
   "metadata": {},
   "outputs": [],
   "source": [
    "%%cython\n",
    "def my_polyx(double a, double b):\n",
    "    return 10.5 * a + 3 * (b**2)"
   ]
  },
  {
   "cell_type": "markdown",
   "metadata": {},
   "source": [
    "> ## What are the differences?\n",
    ">\n",
    "> Note that the only difference is that we tell the function to treat these\n",
    "> variables as double-precision numbers. Why is that important?\n",
    "> **Cython is a dialect of Python**: If this code were written in a regular\n",
    "> Python cell it would produce a syntax error. Cython is a 'dialect' of python,\n",
    "> but it is not exactly like Python.\n",
    "> In fact, Cython is a proper superset of python. That means that any python\n",
    "> code is syntactical Cython code, but not the opposite.\n",
    ">"
   ]
  },
  {
   "cell_type": "markdown",
   "metadata": {},
   "source": [
    "To time the performance of Python/Cython code, we can use the IPython\n",
    "`%timeit` magic:"
   ]
  },
  {
   "cell_type": "code",
   "execution_count": 4,
   "metadata": {},
   "outputs": [
    {
     "name": "stdout",
     "output_type": "stream",
     "text": [
      "393 ns ± 26.2 ns per loop (mean ± std. dev. of 7 runs, 1000000 loops each)\n",
      "102 ns ± 2.6 ns per loop (mean ± std. dev. of 7 runs, 10000000 loops each)\n"
     ]
    }
   ],
   "source": [
    "%timeit my_poly(10, 2)\n",
    "%timeit my_polyx(10, 2)"
   ]
  },
  {
   "cell_type": "markdown",
   "metadata": {},
   "source": [
    "For even a trivial piece of code, we can already gain an approximately 3-fold\n",
    "speedup!\n",
    "\n",
    "Let's consider an (only slightly) more interesting example, the calculation of\n",
    "the Fibonacci series.\n",
    "\n",
    "> ## The Fibonacci series\n",
    ">\n",
    "> The [Fibonacci series](https://en.wikipedia.org/wiki/Fibonacci_number) are\n",
    "> arranged according to the rule:\n",
    ">     F[n] = F[n-1] + F[n-2]\n",
    ">\n",
    "> This series has many interesting properties, but for our purposes it has one\n",
    "> particulary interesting property and that is the fact that the item in the\n",
    "> `n`th location cannot be calculated in a vectorized fashion (without first\n",
    "> calculating items in `n-1`, `n-2` and so on until `n-1 = 0`). This means that\n",
    "> we expect a naive computation to be rather slow."
   ]
  },
  {
   "cell_type": "code",
   "execution_count": 5,
   "metadata": {},
   "outputs": [],
   "source": [
    "def fib(n):\n",
    "    a, b = 1, 1\n",
    "    for i in range(n):\n",
    "        a, b = a + b, a\n",
    "\n",
    "    return a"
   ]
  },
  {
   "cell_type": "markdown",
   "metadata": {},
   "source": [
    "For the Cython version of the function, we will use the `cdef` keyword (a\n",
    "Cython language constant) to define local variables (integers used only within the function):"
   ]
  },
  {
   "cell_type": "code",
   "execution_count": 6,
   "metadata": {},
   "outputs": [],
   "source": [
    "%%cython\n",
    "def fibx(int n):\n",
    "    cdef int i, a, b\n",
    "    a, b = 1, 1\n",
    "    for i in range(n):\n",
    "        a, b = a + b, a\n",
    "    return a"
   ]
  },
  {
   "cell_type": "markdown",
   "metadata": {},
   "source": [
    "Compare the two using `%timeit`:"
   ]
  },
  {
   "cell_type": "code",
   "execution_count": 7,
   "metadata": {},
   "outputs": [
    {
     "name": "stdout",
     "output_type": "stream",
     "text": [
      "736 ns ± 9.4 ns per loop (mean ± std. dev. of 7 runs, 1000000 loops each)\n",
      "47 ns ± 0.792 ns per loop (mean ± std. dev. of 7 runs, 10000000 loops each)\n"
     ]
    }
   ],
   "source": [
    "%timeit fib(10)\n",
    "%timeit fibx(10)"
   ]
  },
  {
   "cell_type": "markdown",
   "metadata": {},
   "source": [
    "In this case, we are already in the realm of a 10X speedup!\n",
    "\n",
    "Let's pause to consider the implications of this. The C code required to\n",
    "perform the same calculation as fibx might look something like this:\n",
    "\n",
    "```\n",
    "int fib(int n){\n",
    "    int tmp, i, a, b;\n",
    "    a = b = 1;\n",
    "    for(i=0; i<n; i++){\n",
    "         tmp = a;\n",
    "         a += b;\n",
    "         b = tmp;}\n",
    "    return a;}\n",
    "\n",
    "```\n",
    "\n",
    "In and of itself, that's not too terrible, but can get unpleasant if you write\n",
    "more than this trivial function. The main issue is that integrating this code\n",
    "into a python program is not trivial and requires writing extension code (think\n",
    "mex, if you've used these in Matlab). This also has overhead that is hard to\n",
    "optimize. Cython writes highly optimized python extension code, making it easy\n",
    "to separate out performance bottle-necks and compile them, but keep using the\n",
    "functions in your Python code."
   ]
  },
  {
   "cell_type": "markdown",
   "metadata": {},
   "source": [
    "> ## Speeding up recursion\n",
    ">\n",
    "> Recursive functions are functions that call themselves during their\n",
    "> execution. Another interesting property of the Fibonacci series is that it\n",
    "> can be written as a recursive function. That's because each item depends on\n",
    "> the values of other items (namely item n-1 and item n-2)\n",
    ">\n",
    "> Rewrite the `fib` function using recursion. Is it faster than the\n",
    "> non-recursive version? Does Cythonizing it give even more of an advantage?\n",
    ">"
   ]
  },
  {
   "cell_type": "markdown",
   "metadata": {},
   "source": [
    "> ## Speeding up recursion\n",
    "> Here is a version of the Fibonacci series written using recursion:\n",
    ">\n",
    ">     def fib_r(n):\n",
    ">         if n <= 1:\n",
    ">             return n\n",
    ">         else:\n",
    ">             return fib_r(n-1) + fib_r(n-2)\n",
    ">\n",
    "> Is it better? Well, it turns out that recursion looks clever, but works much\n",
    "> worse (why is that?). Even worse for this case, Cythonizing the recursed\n",
    "> version of Fibonacci doesn't do much for us either. Why do you think that is?\n",
    "> Later, we'll see how we can diagnose these situations."
   ]
  },
  {
   "cell_type": "markdown",
   "metadata": {},
   "source": [
    "### Writing Cython that also works as Python\n",
    "\n",
    "One of the major challenges in using Cython is that it requires compiling the\n",
    "code for all the platforms (and architectures) on which you want to run the\n",
    "code. This often means that you will distribute the Cython source code and ask\n",
    "users to compile it themselves. If this fails, however, you might still want the\n",
    "code to do what it's supposed to do, albeit slower.\n",
    "\n",
    "The following is a perfectly syntactical Python example, that can also be\n",
    "compiled using Cython. The declarations are now done as calls to functions in\n",
    "the Cython library, instead of. If all else fails, this could would still work."
   ]
  },
  {
   "cell_type": "code",
   "execution_count": 8,
   "metadata": {},
   "outputs": [],
   "source": [
    "%%cython\n",
    "import cython\n",
    "@cython.locals(n=cython.int)\n",
    "def fib_pure_python(n):\n",
    "    cython.declare(a=cython.int,\n",
    "                   b=cython.int,\n",
    "                   i=cython.int)\n",
    "    a, b = 1, 1\n",
    "    for i in range(n):\n",
    "        a, b = a + b, a\n",
    "    return a"
   ]
  },
  {
   "cell_type": "markdown",
   "metadata": {},
   "source": [
    "Try running this code with the `%%cython` magic removed, and witness the slow\n",
    "down back to Python speed."
   ]
  },
  {
   "cell_type": "code",
   "execution_count": 9,
   "metadata": {},
   "outputs": [
    {
     "name": "stdout",
     "output_type": "stream",
     "text": [
      "53.4 ns ± 1.59 ns per loop (mean ± std. dev. of 7 runs, 10000000 loops each)\n"
     ]
    }
   ],
   "source": [
    "%timeit fib_pure_python(10)"
   ]
  }
 ],
 "metadata": {
  "kernelspec": {
   "display_name": "Python 3",
   "language": "python",
   "name": "python3"
  },
  "language_info": {
   "codemirror_mode": {
    "name": "ipython",
    "version": 3
   },
   "file_extension": ".py",
   "mimetype": "text/x-python",
   "name": "python",
   "nbconvert_exporter": "python",
   "pygments_lexer": "ipython3",
   "version": "3.7.0"
  }
 },
 "nbformat": 4,
 "nbformat_minor": 2
}
