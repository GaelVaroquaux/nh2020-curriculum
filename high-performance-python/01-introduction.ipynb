{
 "cells": [
  {
   "cell_type": "markdown",
   "metadata": {},
   "source": [
    "### Introduction\n",
    "\n",
    "Writing code in python is easy: because it is dynamically typed, we don't have\n",
    "to worry to much about declaring variable types (e.g. integers vs. floating\n",
    "point numbers). Also, it is interpreted, rather than compiled. Taken together,\n",
    "this means that we can avoid a lot of the boiler-plate that makes compiled,\n",
    "statically typed languages hard to read. However, this incurs a major drawback:\n",
    "performance for some operations can be quite slow.\n",
    "\n",
    "Whenever possible, the numpy array representation is helpful in saving\n",
    "time. But not all operations can be vectorized. What do you do when you need\n",
    "to speed up your code, but can't rely on vectorization?\n",
    "\n",
    "Here, we'll explore three approaches to speeding up code:\n",
    "\n",
    "1. Sometimes, your only choice in speeding up code is to write extension\n",
    "   code in C, but this is very cumbersome, and requires writing many\n",
    "   lines of additional code above and beyond your core algorithms, just\n",
    "   to communicate between the Python and C computation layers.\n",
    "   [Cython](http://cython.org/) is a technology that allows us to easily\n",
    "   bridge between python, and the underlying C representations. The main\n",
    "   purpose of the library is to take code that is written in python, and,\n",
    "   provided some additional amount of (mostly type) information, compile\n",
    "   it to C, compile the C code, and bundle the C objects into python\n",
    "   extensions that can then be imported directly into python.\n",
    "\n",
    "2. [Numba](https://numba.pydata.org/) also compiles your code to machine\n",
    "   code, but it takes a distinctly different approach. Instead of\n",
    "   translating your Python code to C, and then compiling that down to, it\n",
    "   relies on the [LLVM compiler infrastructure](http://llvm.org/), to\n",
    "   compile the code \"just in time\", at the time that the code is called.\n",
    "\n",
    "3. Another approach to speeding up execution of code is by parallelizing\n",
    "   it. Most of the time (but not always), Python code that you write will\n",
    "   run on a single thread at any given time (because of the so-called\n",
    "   Global Interpreter Lock, or GIL)."
   ]
  },
  {
   "cell_type": "markdown",
   "metadata": {},
   "source": [
    "### Profiling\n",
    "\n",
    "To know whether what you are doing is helping, it is crucial to measure\n",
    "how well you are doing before and after some change. Profiling is a way\n",
    "to know how well a particular piece of code works."
   ]
  },
  {
   "cell_type": "markdown",
   "metadata": {},
   "source": [
    "#### The IPython `timeit` magic\n",
    "\n",
    "In the Jupyter Python notebook, you can use a 'magic' function to time\n",
    "either a single statement, or multiple statements.\n",
    "\n",
    "For example:"
   ]
  },
  {
   "cell_type": "code",
   "execution_count": 1,
   "metadata": {},
   "outputs": [
    {
     "name": "stdout",
     "output_type": "stream",
     "text": [
      "2.31 µs ± 66 ns per loop (mean ± std. dev. of 7 runs, 100000 loops each)\n",
      "9.03 µs ± 530 ns per loop (mean ± std. dev. of 7 runs, 100000 loops each)\n",
      "111 µs ± 17.7 µs per loop (mean ± std. dev. of 7 runs, 10000 loops each)\n"
     ]
    }
   ],
   "source": [
    "import numpy as np\n",
    "\n",
    "for shape in [10e3, 10e4, 10e5]:\n",
    "    X = np.random.rand(int(shape))\n",
    "    %timeit np.dot(X, X.T)"
   ]
  },
  {
   "cell_type": "markdown",
   "metadata": {},
   "source": [
    "Demonstrates how to time the scaling of one operation over inputs of\n",
    "different sizes. The `%timeit` magic only times the operation on _that line_."
   ]
  },
  {
   "cell_type": "markdown",
   "metadata": {},
   "source": [
    "In contrast, if you use `%%timeit`, the magic would apply to the entire cell.\n",
    "\n",
    "For example, in the following cell, we might calculate the pair-wise\n",
    "distance between the entries in a random matrix of 100 by 100, and store\n",
    "them:"
   ]
  },
  {
   "cell_type": "code",
   "execution_count": 2,
   "metadata": {},
   "outputs": [
    {
     "name": "stdout",
     "output_type": "stream",
     "text": [
      "497 ms ± 7.85 ms per loop (mean ± std. dev. of 7 runs, 1 loop each)\n"
     ]
    }
   ],
   "source": [
    "%%timeit\n",
    "X = np.random.rand(100, 100)\n",
    "D = np.empty((100, 100))\n",
    "\n",
    "M = X.shape[0]\n",
    "N = X.shape[1]\n",
    "for i in range(M):\n",
    "    for j in range(M):\n",
    "        d = 0.0\n",
    "        for k in range(N):\n",
    "            tmp = X[i, k] - X[j, k]\n",
    "            d += tmp * tmp\n",
    "        D[i, j] = np.sqrt(d)"
   ]
  },
  {
   "cell_type": "markdown",
   "metadata": {},
   "source": [
    "### Line profiling\n",
    "\n",
    "Knowing that some set of procedures takes time is good, but to improve\n",
    "things, often need to drill down deeper, and figure out which exact lines\n",
    "within a function are the ones that take up most of the time.\n",
    "\n",
    "That's where a line-profiler comes in handy. \n",
    "\n",
    "> To install with conda, issue the following on the shell command line\n",
    ">\n",
    ">    conda install line-profiler\n",
    "\n",
    "To use the line-profiler in the notebook, you'll first need to load the\n",
    "line_profiler extension:"
   ]
  },
  {
   "cell_type": "code",
   "execution_count": 3,
   "metadata": {},
   "outputs": [],
   "source": [
    "%load_ext line_profiler"
   ]
  },
  {
   "cell_type": "markdown",
   "metadata": {},
   "source": [
    "Once you've done that, you'll need to define a function around the code\n",
    "that you are interested in profiling:"
   ]
  },
  {
   "cell_type": "code",
   "execution_count": 4,
   "metadata": {},
   "outputs": [],
   "source": [
    "def distance():\n",
    "    X = np.random.rand(100, 100)\n",
    "    D = np.empty((100, 100))\n",
    "\n",
    "    M = X.shape[0]\n",
    "    N = X.shape[1]\n",
    "    for i in range(M):\n",
    "        for j in range(M):\n",
    "            d = 0.0\n",
    "            for k in range(N):\n",
    "                tmp = X[i, k] - X[j, k]\n",
    "                d += tmp * tmp\n",
    "            D[i, j] = np.sqrt(d)"
   ]
  },
  {
   "cell_type": "markdown",
   "metadata": {},
   "source": [
    "Sometimes the function you want to profile is not the same as the one you\n",
    "would call to profile it, so the syntax of the line-profiler extension\n",
    "is:\n",
    "\n",
    "    %lprun -f function_to_be_profiled function_to_be_called()"
   ]
  },
  {
   "cell_type": "markdown",
   "metadata": {},
   "source": [
    "In this case, they are the same, so running the following:"
   ]
  },
  {
   "cell_type": "code",
   "execution_count": 5,
   "metadata": {},
   "outputs": [],
   "source": [
    "%lprun -f distance distance()"
   ]
  },
  {
   "cell_type": "markdown",
   "metadata": {},
   "source": [
    "The 'Hits' column is important, because it tells us that some lines of\n",
    "code are heavily used. And the '% Time' column is also very important,\n",
    "because it tells us where we should focus our attention first, in making\n",
    "this go faster."
   ]
  },
  {
   "cell_type": "markdown",
   "metadata": {},
   "source": [
    "> Similar to profiling execution time, sometimes you need to profile memory\n",
    "> usage. There's a thing for that too!\n",
    "> To install with conda:\n",
    ">\n",
    ">   `conda install memory_profiler`\n",
    ">\n",
    "> And to use:\n",
    ">   `%load_ext memory_profiler`\n",
    ">   `%mprun -f distance distance()`\n",
    ">\n",
    "> We will not demonstrate this here, but take a look at some examples\n",
    "> in [Chapter 1 of Jake Vanderplas' book](https://jakevdp.github.io/PythonDataScienceHandbook/01.07-timing-and-profiling.html)"
   ]
  }
 ],
 "metadata": {
  "kernelspec": {
   "display_name": "Python 3",
   "language": "python",
   "name": "python3"
  },
  "language_info": {
   "codemirror_mode": {
    "name": "ipython",
    "version": 3
   },
   "file_extension": ".py",
   "mimetype": "text/x-python",
   "name": "python",
   "nbconvert_exporter": "python",
   "pygments_lexer": "ipython3",
   "version": "3.7.0"
  }
 },
 "nbformat": 4,
 "nbformat_minor": 2
}
